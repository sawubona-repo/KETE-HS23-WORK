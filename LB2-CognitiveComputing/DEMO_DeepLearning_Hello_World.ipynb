{
  "cells": [
    {
      "cell_type": "markdown",
      "metadata": {
        "id": "SAhiwWnKDuVT"
      },
      "source": [
        "<a href=\"https://colab.research.google.com/github/https-deeplearning-ai/tensorflow-1-public/blob/master/C1/W1/ungraded_lab/C1_W1_Lab_1_hello_world_nn.ipynb\" target=\"_parent\"><img src=\"https://colab.research.google.com/assets/colab-badge.svg\" alt=\"Open In Colab\"/></a>"
      ]
    },
    {
      "cell_type": "markdown",
      "metadata": {
        "id": "ZIAkIlfmCe1B"
      },
      "source": [
        "# DEMO: The Hello World of Deep Learning with Neural Networks"
      ]
    },
    {
      "cell_type": "markdown",
      "source": [
        "Source/Links:\n",
        "+ [Arpan Goshal@Medium Blog](https://arpanghoshal.medium.com/the-hello-world-of-deep-learning-with-neural-networks-80d637261d87)\n",
        "\n",
        "\n",
        "History:\n",
        "+ Oct'2023 v1 dbe -- adapted for KETE HS23\n",
        "\n",
        "---\n"
      ],
      "metadata": {
        "id": "XMvUYHKSueF5"
      }
    },
    {
      "cell_type": "markdown",
      "source": [
        "### Introduction"
      ],
      "metadata": {
        "id": "kcYff3TRgegR"
      }
    },
    {
      "cell_type": "markdown",
      "source": [
        "Like every first app, you should start with something super simple that shows the overall scaffolding for how your code works. In the case of creating neural networks, one simple case is where it **learns the relationship between two numbers**.  \n",
        "\n",
        "So, for example, if you were writing code for a function like this, you already know the 'rules':"
      ],
      "metadata": {
        "id": "gsQh7JlxZi-L"
      }
    },
    {
      "cell_type": "code",
      "source": [
        "def hello_world_function(x):\n",
        "    y = (2 *x) -1\n",
        "    return y"
      ],
      "metadata": {
        "id": "mEnpt9qRZROC"
      },
      "execution_count": 2,
      "outputs": []
    },
    {
      "cell_type": "code",
      "source": [
        "x = 4.5\n",
        "print (\"x= \",x, \" => y= \", hello_world_function(x))"
      ],
      "metadata": {
        "id": "VkdSzZTSZs9S",
        "colab": {
          "base_uri": "https://localhost:8080/"
        },
        "outputId": "9b66ece7-d694-4b04-cb20-9d5e6906a66c"
      },
      "execution_count": 3,
      "outputs": [
        {
          "output_type": "stream",
          "name": "stdout",
          "text": [
            "x=  4.5  => y=  8.0\n"
          ]
        }
      ]
    },
    {
      "cell_type": "markdown",
      "metadata": {
        "id": "fA93WUy1zzWf"
      },
      "source": [
        "How would you train a neural network to do the equivalent task?\n",
        "\n",
        "By using data! By feeding it with a set of x's and y's, it should be able to figure out the relationship between them.\n",
        "\n",
        "This is obviously a very different paradigm from what you might be used to. So let's step through it piece by piece.\n"
      ]
    },
    {
      "cell_type": "code",
      "source": [
        "x_series = []\n",
        "y_series = []\n",
        "\n",
        "for i in (3,5,7,11,13):\n",
        "  x_series.append(i)\n",
        "  y_series.append(hello_world_function(i))\n",
        "\n",
        "print(x_series,\"\\n\", y_series)"
      ],
      "metadata": {
        "id": "AaBnaP7AaZEL",
        "colab": {
          "base_uri": "https://localhost:8080/"
        },
        "outputId": "d152eacc-1c5d-427a-d484-6f97f1dbaeac"
      },
      "execution_count": 4,
      "outputs": [
        {
          "output_type": "stream",
          "name": "stdout",
          "text": [
            "[3, 5, 7, 11, 13] \n",
            " [5, 9, 13, 21, 25]\n"
          ]
        }
      ]
    },
    {
      "cell_type": "code",
      "source": [
        "import matplotlib.pyplot as plt\n",
        "import pandas as pd\n",
        "\n",
        "# generate a 'dataframe' object withe the x/y series values\n",
        "df = pd.Series(index =x_series,data=y_series).to_frame()"
      ],
      "metadata": {
        "id": "pWJ7HP4PbbDT"
      },
      "execution_count": 6,
      "outputs": []
    },
    {
      "cell_type": "code",
      "source": [
        "# plot the x/y series values (i.e. the dataframe object)\n",
        "df.reset_index(inplace=True)\n",
        "df.columns = ['x','y']\n",
        "df.plot(kind='scatter',x='x',y='y')\n",
        "plt.show()\n",
        "\n",
        "# show the x/y series values (i.e. the dataframe object) in tabular form\n",
        "df.head()"
      ],
      "metadata": {
        "colab": {
          "base_uri": "https://localhost:8080/",
          "height": 638
        },
        "id": "u-8Jd-P32YfE",
        "outputId": "571c63e1-d4d9-4a09-be7c-b29ad24fb814"
      },
      "execution_count": 7,
      "outputs": [
        {
          "output_type": "display_data",
          "data": {
            "text/plain": [
              "<Figure size 640x480 with 1 Axes>"
            ],
            "image/png": "[encoded data removed]"
          },
          "metadata": {}
        },
        {
          "output_type": "execute_result",
          "data": {
            "text/plain": [
              "    x   y\n",
              "0   3   5\n",
              "1   5   9\n",
              "2   7  13\n",
              "3  11  21\n",
              "4  13  25"
            ],
            "text/html": [
              "\n",
              "  <div id=\"df-dfbcb3b7-a3f2-4c52-9d8f-04fcc5e16aec\" class=\"colab-df-container\">\n",
              "    <div>\n",
              "<style scoped>\n",
              "    .dataframe tbody tr th:only-of-type {\n",
              "        vertical-align: middle;\n",
              "    }\n",
              "\n",
              "    .dataframe tbody tr th {\n",
              "        vertical-align: top;\n",
              "    }\n",
              "\n",
              "    .dataframe thead th {\n",
              "        text-align: right;\n",
              "    }\n",
              "</style>\n",
              "<table border=\"1\" class=\"dataframe\">\n",
              "  <thead>\n",
              "    <tr style=\"text-align: right;\">\n",
              "      <th></th>\n",
              "      <th>x</th>\n",
              "      <th>y</th>\n",
              "    </tr>\n",
              "  </thead>\n",
              "  <tbody>\n",
              "    <tr>\n",
              "      <th>0</th>\n",
              "      <td>3</td>\n",
              "      <td>5</td>\n",
              "    </tr>\n",
              "    <tr>\n",
              "      <th>1</th>\n",
              "      <td>5</td>\n",
              "      <td>9</td>\n",
              "    </tr>\n",
              "    <tr>\n",
              "      <th>2</th>\n",
              "      <td>7</td>\n",
              "      <td>13</td>\n",
              "    </tr>\n",
              "    <tr>\n",
              "      <th>3</th>\n",
              "      <td>11</td>\n",
              "      <td>21</td>\n",
              "    </tr>\n",
              "    <tr>\n",
              "      <th>4</th>\n",
              "      <td>13</td>\n",
              "      <td>25</td>\n",
              "    </tr>\n",
              "  </tbody>\n",
              "</table>\n",
              "</div>\n",
              "    <div class=\"colab-df-buttons\">\n",
              "\n",
              "  <div class=\"colab-df-container\">\n",
              "    <button class=\"colab-df-convert\" onclick=\"convertToInteractive('df-dfbcb3b7-a3f2-4c52-9d8f-04fcc5e16aec')\"\n",
              "            title=\"Convert this dataframe to an interactive table.\"\n",
              "            style=\"display:none;\">\n",
              "\n",
              "  <svg xmlns=\"http://www.w3.org/2000/svg\" height=\"24px\" viewBox=\"0 -960 960 960\">\n",
              "    <path d=\"M120-120v-720h720v720H120Zm60-500h600v-160H180v160Zm220 220h160v-160H400v160Zm0 220h160v-160H400v160ZM180-400h160v-160H180v160Zm440 0h160v-160H620v160ZM180-180h160v-160H180v160Zm440 0h160v-160H620v160Z\"/>\n",
              "  </svg>\n",
              "    </button>\n",
              "\n",
              "  <style>\n",
              "    .colab-df-container {\n",
              "      display:flex;\n",
              "      gap: 12px;\n",
              "    }\n",
              "\n",
              "    .colab-df-convert {\n",
              "      background-color: #E8F0FE;\n",
              "      border: none;\n",
              "      border-radius: 50%;\n",
              "      cursor: pointer;\n",
              "      display: none;\n",
              "      fill: #1967D2;\n",
              "      height: 32px;\n",
              "      padding: 0 0 0 0;\n",
              "      width: 32px;\n",
              "    }\n",
              "\n",
              "    .colab-df-convert:hover {\n",
              "      background-color: #E2EBFA;\n",
              "      box-shadow: 0px 1px 2px rgba(60, 64, 67, 0.3), 0px 1px 3px 1px rgba(60, 64, 67, 0.15);\n",
              "      fill: #174EA6;\n",
              "    }\n",
              "\n",
              "    .colab-df-buttons div {\n",
              "      margin-bottom: 4px;\n",
              "    }\n",
              "\n",
              "    [theme=dark] .colab-df-convert {\n",
              "      background-color: #3B4455;\n",
              "      fill: #D2E3FC;\n",
              "    }\n",
              "\n",
              "    [theme=dark] .colab-df-convert:hover {\n",
              "      background-color: #434B5C;\n",
              "      box-shadow: 0px 1px 3px 1px rgba(0, 0, 0, 0.15);\n",
              "      filter: drop-shadow(0px 1px 2px rgba(0, 0, 0, 0.3));\n",
              "      fill: #FFFFFF;\n",
              "    }\n",
              "  </style>\n",
              "\n",
              "    <script>\n",
              "      const buttonEl =\n",
              "        document.querySelector('#df-dfbcb3b7-a3f2-4c52-9d8f-04fcc5e16aec button.colab-df-convert');\n",
              "      buttonEl.style.display =\n",
              "        google.colab.kernel.accessAllowed ? 'block' : 'none';\n",
              "\n",
              "      async function convertToInteractive(key) {\n",
              "        const element = document.querySelector('#df-dfbcb3b7-a3f2-4c52-9d8f-04fcc5e16aec');\n",
              "        const dataTable =\n",
              "          await google.colab.kernel.invokeFunction('convertToInteractive',\n",
              "                                                    [key], {});\n",
              "        if (!dataTable) return;\n",
              "\n",
              "        const docLinkHtml = 'Like what you see? Visit the ' +\n",
              "          '<a target=\"_blank\" href=https://colab.research.google.com/notebooks/data_table.ipynb>data table notebook</a>'\n",
              "          + ' to learn more about interactive tables.';\n",
              "        element.innerHTML = '';\n",
              "        dataTable['output_type'] = 'display_data';\n",
              "        await google.colab.output.renderOutput(dataTable, element);\n",
              "        const docLink = document.createElement('div');\n",
              "        docLink.innerHTML = docLinkHtml;\n",
              "        element.appendChild(docLink);\n",
              "      }\n",
              "    </script>\n",
              "  </div>\n",
              "\n",
              "\n",
              "<div id=\"df-b937243b-15dc-4fdd-88ac-e70d646ab726\">\n",
              "  <button class=\"colab-df-quickchart\" onclick=\"quickchart('df-b937243b-15dc-4fdd-88ac-e70d646ab726')\"\n",
              "            title=\"Suggest charts.\"\n",
              "            style=\"display:none;\">\n",
              "\n",
              "<svg xmlns=\"http://www.w3.org/2000/svg\" height=\"24px\"viewBox=\"0 0 24 24\"\n",
              "     width=\"24px\">\n",
              "    <g>\n",
              "        <path d=\"M19 3H5c-1.1 0-2 .9-2 2v14c0 1.1.9 2 2 2h14c1.1 0 2-.9 2-2V5c0-1.1-.9-2-2-2zM9 17H7v-7h2v7zm4 0h-2V7h2v10zm4 0h-2v-4h2v4z\"/>\n",
              "    </g>\n",
              "</svg>\n",
              "  </button>\n",
              "\n",
              "<style>\n",
              "  .colab-df-quickchart {\n",
              "      --bg-color: #E8F0FE;\n",
              "      --fill-color: #1967D2;\n",
              "      --hover-bg-color: #E2EBFA;\n",
              "      --hover-fill-color: #174EA6;\n",
              "      --disabled-fill-color: #AAA;\n",
              "      --disabled-bg-color: #DDD;\n",
              "  }\n",
              "\n",
              "  [theme=dark] .colab-df-quickchart {\n",
              "      --bg-color: #3B4455;\n",
              "      --fill-color: #D2E3FC;\n",
              "      --hover-bg-color: #434B5C;\n",
              "      --hover-fill-color: #FFFFFF;\n",
              "      --disabled-bg-color: #3B4455;\n",
              "      --disabled-fill-color: #666;\n",
              "  }\n",
              "\n",
              "  .colab-df-quickchart {\n",
              "    background-color: var(--bg-color);\n",
              "    border: none;\n",
              "    border-radius: 50%;\n",
              "    cursor: pointer;\n",
              "    display: none;\n",
              "    fill: var(--fill-color);\n",
              "    height: 32px;\n",
              "    padding: 0;\n",
              "    width: 32px;\n",
              "  }\n",
              "\n",
              "  .colab-df-quickchart:hover {\n",
              "    background-color: var(--hover-bg-color);\n",
              "    box-shadow: 0 1px 2px rgba(60, 64, 67, 0.3), 0 1px 3px 1px rgba(60, 64, 67, 0.15);\n",
              "    fill: var(--button-hover-fill-color);\n",
              "  }\n",
              "\n",
              "  .colab-df-quickchart-complete:disabled,\n",
              "  .colab-df-quickchart-complete:disabled:hover {\n",
              "    background-color: var(--disabled-bg-color);\n",
              "    fill: var(--disabled-fill-color);\n",
              "    box-shadow: none;\n",
              "  }\n",
              "\n",
              "  .colab-df-spinner {\n",
              "    border: 2px solid var(--fill-color);\n",
              "    border-color: transparent;\n",
              "    border-bottom-color: var(--fill-color);\n",
              "    animation:\n",
              "      spin 1s steps(1) infinite;\n",
              "  }\n",
              "\n",
              "  @keyframes spin {\n",
              "    0% {\n",
              "      border-color: transparent;\n",
              "      border-bottom-color: var(--fill-color);\n",
              "      border-left-color: var(--fill-color);\n",
              "    }\n",
              "    20% {\n",
              "      border-color: transparent;\n",
              "      border-left-color: var(--fill-color);\n",
              "      border-top-color: var(--fill-color);\n",
              "    }\n",
              "    30% {\n",
              "      border-color: transparent;\n",
              "      border-left-color: var(--fill-color);\n",
              "      border-top-color: var(--fill-color);\n",
              "      border-right-color: var(--fill-color);\n",
              "    }\n",
              "    40% {\n",
              "      border-color: transparent;\n",
              "      border-right-color: var(--fill-color);\n",
              "      border-top-color: var(--fill-color);\n",
              "    }\n",
              "    60% {\n",
              "      border-color: transparent;\n",
              "      border-right-color: var(--fill-color);\n",
              "    }\n",
              "    80% {\n",
              "      border-color: transparent;\n",
              "      border-right-color: var(--fill-color);\n",
              "      border-bottom-color: var(--fill-color);\n",
              "    }\n",
              "    90% {\n",
              "      border-color: transparent;\n",
              "      border-bottom-color: var(--fill-color);\n",
              "    }\n",
              "  }\n",
              "</style>\n",
              "\n",
              "  <script>\n",
              "    async function quickchart(key) {\n",
              "      const quickchartButtonEl =\n",
              "        document.querySelector('#' + key + ' button');\n",
              "      quickchartButtonEl.disabled = true;  // To prevent multiple clicks.\n",
              "      quickchartButtonEl.classList.add('colab-df-spinner');\n",
              "      try {\n",
              "        const charts = await google.colab.kernel.invokeFunction(\n",
              "            'suggestCharts', [key], {});\n",
              "      } catch (error) {\n",
              "        console.error('Error during call to suggestCharts:', error);\n",
              "      }\n",
              "      quickchartButtonEl.classList.remove('colab-df-spinner');\n",
              "      quickchartButtonEl.classList.add('colab-df-quickchart-complete');\n",
              "    }\n",
              "    (() => {\n",
              "      let quickchartButtonEl =\n",
              "        document.querySelector('#df-b937243b-15dc-4fdd-88ac-e70d646ab726 button');\n",
              "      quickchartButtonEl.style.display =\n",
              "        google.colab.kernel.accessAllowed ? 'block' : 'none';\n",
              "    })();\n",
              "  </script>\n",
              "</div>\n",
              "    </div>\n",
              "  </div>\n"
            ]
          },
          "metadata": {},
          "execution_count": 7
        }
      ]
    },
    {
      "cell_type": "markdown",
      "metadata": {
        "id": "5QyOUhFw1OUX"
      },
      "source": [
        "---  \n",
        "## A) Import Numpy and Prepare the Data\n",
        "\n",
        "You further import a library called **numpy** -  calling it `np` for convention and ease of use - which helps to represent data as arrays easily and to optimize numerical operations.\n",
        "\n",
        "Next up, you will feed in some data. In this case, you are taking 6 `x's` and 6 `y's`. You can see that the relationship between these is `y=2x-1`, so where `x = -1`, `y=-3` etc.\n",
        "\n",
        "The de facto standard way of declaring model inputs and outputs is to use [numpy](https://numpy.org/), a Python library that provides lots of array type data structures. You can specify these values by building numpy arrays with [`np.array()`](https://numpy.org/doc/stable/reference/generated/numpy.array.html)."
      ]
    },
    {
      "cell_type": "code",
      "execution_count": 8,
      "metadata": {
        "id": "4Dxk4q-jzEy4"
      },
      "outputs": [],
      "source": [
        "import numpy as np\n",
        "\n",
        "# Declare model inputs and outputs - arrays - for training\n",
        "xs = np.array([-1.0,  0.0, 1.0, 2.0, 3.0, 4.0], dtype=float)\n",
        "ys = np.array([-3.0, -1.0, 1.0, 3.0, 5.0, 7.0], dtype=float)"
      ]
    },
    {
      "cell_type": "markdown",
      "metadata": {
        "id": "DzbtdRcZDO9B"
      },
      "source": [
        "## B) Import Deep Learning Libraries\n",
        "\n",
        "Here, you are importing [TensorFlow](https://www.tensorflow.org/) and calling it `tf` for convention and ease of use.\n",
        "\n",
        "The framework you will use to build a neural network as a sequence of layers is called [`keras`](https://keras.io/) so you will import that too.\n"
      ]
    },
    {
      "cell_type": "code",
      "execution_count": 9,
      "metadata": {
        "id": "X9uIpOS2zx7k",
        "colab": {
          "base_uri": "https://localhost:8080/"
        },
        "outputId": "a4bb82cd-030d-4e25-f48a-4ae04aa52d4f"
      },
      "outputs": [
        {
          "output_type": "stream",
          "name": "stdout",
          "text": [
            "2.14.0\n"
          ]
        }
      ],
      "source": [
        "import tensorflow as tf\n",
        "from tensorflow import keras\n",
        "\n",
        "print(tf.__version__)"
      ]
    },
    {
      "cell_type": "markdown",
      "metadata": {
        "id": "wwJGmDrQ0EoB"
      },
      "source": [
        "## C) Define and Compile the Neural Network\n",
        "\n",
        "Next, you will create the simplest possible neural network. It has **1 layer with 1 neuron** (see [Perceptron](https://medium.com/@ilyurek/perceptron-model-the-foundation-of-neural-networks-4db25b0148d)), and the input shape to it is just 1 value."
      ]
    },
    {
      "cell_type": "markdown",
      "source": [
        "![image.png](data:image/png;base64,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)"
      ],
      "metadata": {
        "id": "dcLPol12xIDW"
      }
    },
    {
      "cell_type": "markdown",
      "source": [
        "You will build this model using Keras' [Sequential](https://keras.io/api/models/sequential/) class which allows you to define the network as a sequence of [layers](https://keras.io/api/layers/). You can use a single [Dense](https://keras.io/api/layers/core_layers/dense/) layer to build this simple network as shown below:"
      ],
      "metadata": {
        "id": "fgN0hsKpzU7P"
      }
    },
    {
      "cell_type": "code",
      "execution_count": 10,
      "metadata": {
        "id": "kQFAr_xo0M4T"
      },
      "outputs": [],
      "source": [
        "# Build a simple Sequential model\n",
        "model = tf.keras.Sequential([\n",
        "        keras.layers.Dense(units=1, input_shape=[1])\n",
        "        ])"
      ]
    },
    {
      "cell_type": "markdown",
      "metadata": {
        "id": "KhjZjZ-c0Ok9"
      },
      "source": [
        "Now, you will compile the neural network. When you do so, you have to specify 2 functions: a [loss](https://keras.io/api/losses/) and an [optimizer](https://keras.io/api/optimizers/).\n",
        "\n",
        "If you've seen lots of math for machine learning, here's where it's usually used. But in this case, it's nicely encapsulated in functions and classes for you. But what happens here? Let's explain...\n",
        "\n",
        "You know that in the function declared at the start of this notebook, the relationship between the numbers is `y=2x-1`. When the computer is trying to 'learn' that, it makes a guess... maybe `y=10x+10`. The `loss` function measures the guessed answers against the known correct answers and measures how well or how badly it did.\n",
        "\n",
        "It then uses the `optimizer` function to make another guess. Based on how the loss function went, it will try to minimize the loss. At that point maybe it will come up with something like `y=5x+5`, which, while still pretty bad, is closer to the correct result (i.e. the loss is lower).\n",
        "\n",
        "It will repeat this for the number of _epochs_ which you will see shortly. But first, here's how you will tell it to use [mean squared error](https://keras.io/api/losses/regression_losses/#meansquarederror-function) for the loss and [stochastic gradient descent](https://keras.io/api/optimizers/sgd/) for the optimizer. You don't need to understand the math for these yet, but you can see that they work!\n",
        "\n",
        "Over time, you will learn the different and appropriate loss and optimizer functions for different scenarios.\n"
      ]
    },
    {
      "cell_type": "code",
      "execution_count": 11,
      "metadata": {
        "id": "m8YQN1H41L-Y"
      },
      "outputs": [],
      "source": [
        "# Compile the model\n",
        "model.compile(loss='mean_squared_error',\n",
        "              optimizer='sgd')"
      ]
    },
    {
      "cell_type": "code",
      "source": [
        "# Show the model characteristics\n",
        "model.summary()"
      ],
      "metadata": {
        "id": "myLGGUWQJu6_",
        "colab": {
          "base_uri": "https://localhost:8080/"
        },
        "outputId": "87bf9427-14bd-4691-ae99-70be60fb80c5"
      },
      "execution_count": 12,
      "outputs": [
        {
          "output_type": "stream",
          "name": "stdout",
          "text": [
            "Model: \"sequential\"\n",
            "_________________________________________________________________\n",
            " Layer (type)                Output Shape              Param #   \n",
            "=================================================================\n",
            " dense (Dense)               (None, 1)                 2         \n",
            "                                                                 \n",
            "=================================================================\n",
            "Total params: 2 (8.00 Byte)\n",
            "Trainable params: 2 (8.00 Byte)\n",
            "Non-trainable params: 0 (0.00 Byte)\n",
            "_________________________________________________________________\n"
          ]
        }
      ]
    },
    {
      "cell_type": "markdown",
      "metadata": {
        "id": "n_YcWRElnM_b"
      },
      "source": [
        "## D) Train the Neural Network\n",
        "\n",
        "The process of training the neural network, where it 'learns' the relationship between the x's and y's is in the [`model.fit()`](https://keras.io/api/models/model_training_apis/#fit-method)  call.   \n",
        "\n",
        "This is where it will go through the loop we spoke about above: making a guess, measuring how good or bad it is (aka the loss), using the optimizer to make another guess etc. It will do it for the number of `epochs` you specify. When you run this code, you'll see the loss on the right hand side."
      ]
    },
    {
      "cell_type": "code",
      "execution_count": 13,
      "metadata": {
        "id": "lpRrl7WK10Pq",
        "colab": {
          "base_uri": "https://localhost:8080/"
        },
        "outputId": "97c17e9b-cc6b-47e0-d900-a41001cf236b"
      },
      "outputs": [
        {
          "output_type": "stream",
          "name": "stdout",
          "text": [
            "Epoch 1/100\n",
            "1/1 [==============================] - 0s 438ms/step - loss: 2.5984\n",
            "Epoch 2/100\n",
            "1/1 [==============================] - 0s 10ms/step - loss: 2.1956\n",
            "Epoch 3/100\n",
            "1/1 [==============================] - 0s 9ms/step - loss: 1.8756\n",
            "Epoch 4/100\n",
            "1/1 [==============================] - 0s 9ms/step - loss: 1.6208\n",
            "Epoch 5/100\n",
            "1/1 [==============================] - 0s 9ms/step - loss: 1.4174\n",
            "Epoch 6/100\n",
            "1/1 [==============================] - 0s 10ms/step - loss: 1.2544\n",
            "Epoch 7/100\n",
            "1/1 [==============================] - 0s 10ms/step - loss: 1.1233\n",
            "Epoch 8/100\n",
            "1/1 [==============================] - 0s 10ms/step - loss: 1.0174\n",
            "Epoch 9/100\n",
            "1/1 [==============================] - 0s 10ms/step - loss: 0.9313\n",
            "Epoch 10/100\n",
            "1/1 [==============================] - 0s 10ms/step - loss: 0.8609\n",
            "Epoch 11/100\n",
            "1/1 [==============================] - 0s 10ms/step - loss: 0.8029\n",
            "Epoch 12/100\n",
            "1/1 [==============================] - 0s 9ms/step - loss: 0.7546\n",
            "Epoch 13/100\n",
            "1/1 [==============================] - 0s 9ms/step - loss: 0.7141\n",
            "Epoch 14/100\n",
            "1/1 [==============================] - 0s 9ms/step - loss: 0.6798\n",
            "Epoch 15/100\n",
            "1/1 [==============================] - 0s 9ms/step - loss: 0.6504\n",
            "Epoch 16/100\n",
            "1/1 [==============================] - 0s 11ms/step - loss: 0.6249\n",
            "Epoch 17/100\n",
            "1/1 [==============================] - 0s 10ms/step - loss: 0.6025\n",
            "Epoch 18/100\n",
            "1/1 [==============================] - 0s 11ms/step - loss: 0.5826\n",
            "Epoch 19/100\n",
            "1/1 [==============================] - 0s 11ms/step - loss: 0.5647\n",
            "Epoch 20/100\n",
            "1/1 [==============================] - 0s 9ms/step - loss: 0.5484\n",
            "Epoch 21/100\n",
            "1/1 [==============================] - 0s 10ms/step - loss: 0.5335\n",
            "Epoch 22/100\n",
            "1/1 [==============================] - 0s 9ms/step - loss: 0.5196\n",
            "Epoch 23/100\n",
            "1/1 [==============================] - 0s 9ms/step - loss: 0.5067\n",
            "Epoch 24/100\n",
            "1/1 [==============================] - 0s 9ms/step - loss: 0.4945\n",
            "Epoch 25/100\n",
            "1/1 [==============================] - 0s 9ms/step - loss: 0.4829\n",
            "Epoch 26/100\n",
            "1/1 [==============================] - 0s 9ms/step - loss: 0.4719\n",
            "Epoch 27/100\n",
            "1/1 [==============================] - 0s 9ms/step - loss: 0.4614\n",
            "Epoch 28/100\n",
            "1/1 [==============================] - 0s 9ms/step - loss: 0.4512\n",
            "Epoch 29/100\n",
            "1/1 [==============================] - 0s 10ms/step - loss: 0.4414\n",
            "Epoch 30/100\n",
            "1/1 [==============================] - 0s 21ms/step - loss: 0.4319\n",
            "Epoch 31/100\n",
            "1/1 [==============================] - 0s 11ms/step - loss: 0.4227\n",
            "Epoch 32/100\n",
            "1/1 [==============================] - 0s 10ms/step - loss: 0.4138\n",
            "Epoch 33/100\n",
            "1/1 [==============================] - 0s 10ms/step - loss: 0.4050\n",
            "Epoch 34/100\n",
            "1/1 [==============================] - 0s 9ms/step - loss: 0.3966\n",
            "Epoch 35/100\n",
            "1/1 [==============================] - 0s 10ms/step - loss: 0.3883\n",
            "Epoch 36/100\n",
            "1/1 [==============================] - 0s 10ms/step - loss: 0.3802\n",
            "Epoch 37/100\n",
            "1/1 [==============================] - 0s 10ms/step - loss: 0.3723\n",
            "Epoch 38/100\n",
            "1/1 [==============================] - 0s 10ms/step - loss: 0.3646\n",
            "Epoch 39/100\n",
            "1/1 [==============================] - 0s 10ms/step - loss: 0.3571\n",
            "Epoch 40/100\n",
            "1/1 [==============================] - 0s 9ms/step - loss: 0.3497\n",
            "Epoch 41/100\n",
            "1/1 [==============================] - 0s 10ms/step - loss: 0.3425\n",
            "Epoch 42/100\n",
            "1/1 [==============================] - 0s 9ms/step - loss: 0.3354\n",
            "Epoch 43/100\n",
            "1/1 [==============================] - 0s 9ms/step - loss: 0.3285\n",
            "Epoch 44/100\n",
            "1/1 [==============================] - 0s 9ms/step - loss: 0.3218\n",
            "Epoch 45/100\n",
            "1/1 [==============================] - 0s 9ms/step - loss: 0.3151\n",
            "Epoch 46/100\n",
            "1/1 [==============================] - 0s 10ms/step - loss: 0.3087\n",
            "Epoch 47/100\n",
            "1/1 [==============================] - 0s 9ms/step - loss: 0.3023\n",
            "Epoch 48/100\n",
            "1/1 [==============================] - 0s 10ms/step - loss: 0.2961\n",
            "Epoch 49/100\n",
            "1/1 [==============================] - 0s 9ms/step - loss: 0.2900\n",
            "Epoch 50/100\n",
            "1/1 [==============================] - 0s 9ms/step - loss: 0.2840\n",
            "Epoch 51/100\n",
            "1/1 [==============================] - 0s 10ms/step - loss: 0.2782\n",
            "Epoch 52/100\n",
            "1/1 [==============================] - 0s 9ms/step - loss: 0.2725\n",
            "Epoch 53/100\n",
            "1/1 [==============================] - 0s 10ms/step - loss: 0.2669\n",
            "Epoch 54/100\n",
            "1/1 [==============================] - 0s 9ms/step - loss: 0.2614\n",
            "Epoch 55/100\n",
            "1/1 [==============================] - 0s 9ms/step - loss: 0.2560\n",
            "Epoch 56/100\n",
            "1/1 [==============================] - 0s 9ms/step - loss: 0.2508\n",
            "Epoch 57/100\n",
            "1/1 [==============================] - 0s 9ms/step - loss: 0.2456\n",
            "Epoch 58/100\n",
            "1/1 [==============================] - 0s 9ms/step - loss: 0.2406\n",
            "Epoch 59/100\n",
            "1/1 [==============================] - 0s 10ms/step - loss: 0.2356\n",
            "Epoch 60/100\n",
            "1/1 [==============================] - 0s 9ms/step - loss: 0.2308\n",
            "Epoch 61/100\n",
            "1/1 [==============================] - 0s 11ms/step - loss: 0.2261\n",
            "Epoch 62/100\n",
            "1/1 [==============================] - 0s 9ms/step - loss: 0.2214\n",
            "Epoch 63/100\n",
            "1/1 [==============================] - 0s 9ms/step - loss: 0.2169\n",
            "Epoch 64/100\n",
            "1/1 [==============================] - 0s 12ms/step - loss: 0.2124\n",
            "Epoch 65/100\n",
            "1/1 [==============================] - 0s 9ms/step - loss: 0.2081\n",
            "Epoch 66/100\n",
            "1/1 [==============================] - 0s 14ms/step - loss: 0.2038\n",
            "Epoch 67/100\n",
            "1/1 [==============================] - 0s 12ms/step - loss: 0.1996\n",
            "Epoch 68/100\n",
            "1/1 [==============================] - 0s 10ms/step - loss: 0.1955\n",
            "Epoch 69/100\n",
            "1/1 [==============================] - 0s 10ms/step - loss: 0.1915\n",
            "Epoch 70/100\n",
            "1/1 [==============================] - 0s 10ms/step - loss: 0.1875\n",
            "Epoch 71/100\n",
            "1/1 [==============================] - 0s 10ms/step - loss: 0.1837\n",
            "Epoch 72/100\n",
            "1/1 [==============================] - 0s 9ms/step - loss: 0.1799\n",
            "Epoch 73/100\n",
            "1/1 [==============================] - 0s 10ms/step - loss: 0.1762\n",
            "Epoch 74/100\n",
            "1/1 [==============================] - 0s 11ms/step - loss: 0.1726\n",
            "Epoch 75/100\n",
            "1/1 [==============================] - 0s 11ms/step - loss: 0.1691\n",
            "Epoch 76/100\n",
            "1/1 [==============================] - 0s 10ms/step - loss: 0.1656\n",
            "Epoch 77/100\n",
            "1/1 [==============================] - 0s 10ms/step - loss: 0.1622\n",
            "Epoch 78/100\n",
            "1/1 [==============================] - 0s 10ms/step - loss: 0.1589\n",
            "Epoch 79/100\n",
            "1/1 [==============================] - 0s 10ms/step - loss: 0.1556\n",
            "Epoch 80/100\n",
            "1/1 [==============================] - 0s 11ms/step - loss: 0.1524\n",
            "Epoch 81/100\n",
            "1/1 [==============================] - 0s 11ms/step - loss: 0.1493\n",
            "Epoch 82/100\n",
            "1/1 [==============================] - 0s 10ms/step - loss: 0.1462\n",
            "Epoch 83/100\n",
            "1/1 [==============================] - 0s 10ms/step - loss: 0.1432\n",
            "Epoch 84/100\n",
            "1/1 [==============================] - 0s 10ms/step - loss: 0.1403\n",
            "Epoch 85/100\n",
            "1/1 [==============================] - 0s 11ms/step - loss: 0.1374\n",
            "Epoch 86/100\n",
            "1/1 [==============================] - 0s 10ms/step - loss: 0.1345\n",
            "Epoch 87/100\n",
            "1/1 [==============================] - 0s 10ms/step - loss: 0.1318\n",
            "Epoch 88/100\n",
            "1/1 [==============================] - 0s 11ms/step - loss: 0.1291\n",
            "Epoch 89/100\n",
            "1/1 [==============================] - 0s 11ms/step - loss: 0.1264\n",
            "Epoch 90/100\n",
            "1/1 [==============================] - 0s 12ms/step - loss: 0.1238\n",
            "Epoch 91/100\n",
            "1/1 [==============================] - 0s 11ms/step - loss: 0.1213\n",
            "Epoch 92/100\n",
            "1/1 [==============================] - 0s 10ms/step - loss: 0.1188\n",
            "Epoch 93/100\n",
            "1/1 [==============================] - 0s 10ms/step - loss: 0.1164\n",
            "Epoch 94/100\n",
            "1/1 [==============================] - 0s 10ms/step - loss: 0.1140\n",
            "Epoch 95/100\n",
            "1/1 [==============================] - 0s 16ms/step - loss: 0.1116\n",
            "Epoch 96/100\n",
            "1/1 [==============================] - 0s 11ms/step - loss: 0.1093\n",
            "Epoch 97/100\n",
            "1/1 [==============================] - 0s 12ms/step - loss: 0.1071\n",
            "Epoch 98/100\n",
            "1/1 [==============================] - 0s 10ms/step - loss: 0.1049\n",
            "Epoch 99/100\n",
            "1/1 [==============================] - 0s 10ms/step - loss: 0.1027\n",
            "Epoch 100/100\n",
            "1/1 [==============================] - 0s 10ms/step - loss: 0.1006\n"
          ]
        },
        {
          "output_type": "execute_result",
          "data": {
            "text/plain": [
              "<keras.src.callbacks.History at 0x78f09d0078b0>"
            ]
          },
          "metadata": {},
          "execution_count": 13
        }
      ],
      "source": [
        "# Train the model\n",
        "model.fit(xs, ys, epochs=100)"
      ]
    },
    {
      "cell_type": "markdown",
      "metadata": {
        "id": "kaFIr71H2OZ-"
      },
      "source": [
        "## E) Apply trained Neural Network (predict)  \n",
        "\n",
        " Ok, now you have a model that has been trained to learn the relationship between `x` and `y`. You can use the [`model.predict()`](https://keras.io/api/models/model_training_apis/#predict-method) method to have it figure out the `y` for a previously unknown `x`.   \n",
        "\n",
        " So, for example, if `x=10`, what do you think `y` will be? Take a guess before you run this code:"
      ]
    },
    {
      "cell_type": "code",
      "execution_count": 14,
      "metadata": {
        "id": "oxNzL4lS2Gui",
        "colab": {
          "base_uri": "https://localhost:8080/"
        },
        "outputId": "ccd729e4-ff1f-4366-bd62-ab5cf8caeb79"
      },
      "outputs": [
        {
          "output_type": "stream",
          "name": "stdout",
          "text": [
            "1/1 [==============================] - 0s 104ms/step\n",
            "x_new=  10 y_new=  [[18.074482]]\n"
          ]
        }
      ],
      "source": [
        "# Make a prediction by using the trained model and applying it to new x-values\n",
        "x_new = 10\n",
        "y_new = model.predict([x_new])\n",
        "print(\"x_new= \", x_new, \"y_new= \", y_new)"
      ]
    },
    {
      "cell_type": "markdown",
      "metadata": {
        "id": "btF2CSFH2iEX"
      },
      "source": [
        "You might have thought `19`, right? But it ended up being a little under. Why do you think that is?\n",
        "\n",
        "---  \n",
        "Remember that neural networks *deal with probabilities*. So given the data that we fed the model with, it calculated that there is a very high probability that the relationship between `x` and `y` is `y=2x-1`, but with only 6 data points we can't know for sure. As a result, the result for 10 is very close to 19, but not necessarily 19.\n",
        "\n",
        "> **As you work with neural networks, you'll see this pattern recurring. You will almost always deal with probabilities, not certainties, and will do a little bit of coding to figure out what the result is based on the probabilities, particularly when it comes to classification**\n"
      ]
    }
  ],
  "metadata": {
    "colab": {
      "provenance": [],
      "toc_visible": true
    },
    "kernelspec": {
      "display_name": "Python 3",
      "name": "python3"
    },
    "language_info": {
      "codemirror_mode": {
        "name": "ipython",
        "version": 3
      },
      "file_extension": ".py",
      "mimetype": "text/x-python",
      "name": "python",
      "nbconvert_exporter": "python",
      "pygments_lexer": "ipython3",
      "version": "3.7.4"
    }
  },
  "nbformat": 4,
  "nbformat_minor": 0
}